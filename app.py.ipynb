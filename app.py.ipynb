{
 "cells": [
  {
   "cell_type": "code",
   "execution_count": 2,
   "id": "08b6b9f7",
   "metadata": {},
   "outputs": [
    {
     "ename": "FileNotFoundError",
     "evalue": "[Errno 2] No such file or directory: 'random_forest_regression_model.pkl'",
     "output_type": "error",
     "traceback": [
      "\u001b[1;31m---------------------------------------------------------------------------\u001b[0m",
      "\u001b[1;31mFileNotFoundError\u001b[0m                         Traceback (most recent call last)",
      "\u001b[1;32m<ipython-input-2-2489f9d46564>\u001b[0m in \u001b[0;36m<module>\u001b[1;34m\u001b[0m\n\u001b[0;32m      7\u001b[0m \u001b[1;32mfrom\u001b[0m \u001b[0msklearn\u001b[0m\u001b[1;33m.\u001b[0m\u001b[0mpreprocessing\u001b[0m \u001b[1;32mimport\u001b[0m \u001b[0mStandardScaler\u001b[0m\u001b[1;33m\u001b[0m\u001b[1;33m\u001b[0m\u001b[0m\n\u001b[0;32m      8\u001b[0m \u001b[0mapp\u001b[0m \u001b[1;33m=\u001b[0m \u001b[0mFlask\u001b[0m\u001b[1;33m(\u001b[0m\u001b[0m__name__\u001b[0m\u001b[1;33m)\u001b[0m\u001b[1;33m\u001b[0m\u001b[1;33m\u001b[0m\u001b[0m\n\u001b[1;32m----> 9\u001b[1;33m \u001b[0mmodel\u001b[0m \u001b[1;33m=\u001b[0m \u001b[0mpickle\u001b[0m\u001b[1;33m.\u001b[0m\u001b[0mload\u001b[0m\u001b[1;33m(\u001b[0m\u001b[0mopen\u001b[0m\u001b[1;33m(\u001b[0m\u001b[1;34m'random_forest_regression_model.pkl'\u001b[0m\u001b[1;33m,\u001b[0m \u001b[1;34m'rb'\u001b[0m\u001b[1;33m)\u001b[0m\u001b[1;33m)\u001b[0m\u001b[1;33m\u001b[0m\u001b[1;33m\u001b[0m\u001b[0m\n\u001b[0m\u001b[0;32m     10\u001b[0m \u001b[1;33m@\u001b[0m\u001b[0mapp\u001b[0m\u001b[1;33m.\u001b[0m\u001b[0mroute\u001b[0m\u001b[1;33m(\u001b[0m\u001b[1;34m'/'\u001b[0m\u001b[1;33m,\u001b[0m\u001b[0mmethods\u001b[0m\u001b[1;33m=\u001b[0m\u001b[1;33m[\u001b[0m\u001b[1;34m'GET'\u001b[0m\u001b[1;33m]\u001b[0m\u001b[1;33m)\u001b[0m\u001b[1;33m\u001b[0m\u001b[1;33m\u001b[0m\u001b[0m\n\u001b[0;32m     11\u001b[0m \u001b[1;32mdef\u001b[0m \u001b[0mHome\u001b[0m\u001b[1;33m(\u001b[0m\u001b[1;33m)\u001b[0m\u001b[1;33m:\u001b[0m\u001b[1;33m\u001b[0m\u001b[1;33m\u001b[0m\u001b[0m\n",
      "\u001b[1;31mFileNotFoundError\u001b[0m: [Errno 2] No such file or directory: 'random_forest_regression_model.pkl'"
     ]
    }
   ],
   "source": [
    "from flask import Flask, render_template, request\n",
    "import jsonify\n",
    "import requests\n",
    "import pickle\n",
    "import numpy as np\n",
    "import sklearn\n",
    "from sklearn.preprocessing import StandardScaler\n",
    "app = Flask(__name__)\n",
    "model = pickle.load(open('Housing_Price_Prediction.pkl', 'rb'))\n",
    "@app.route('/',methods=['GET'])\n",
    "def Home():\n",
    "    return render_template('index.html')\n",
    "\n",
    "\n",
    "standard_to = StandardScaler()\n",
    "@app.route(\"/predict\", methods=['POST'])\n",
    "def predict():\n",
    "    Fuel_Type_Diesel=0\n",
    "    if request.method == 'POST':\n",
    "        Year = int(request.form['Year'])\n",
    "        Present_Price=float(request.form['Present_Price'])\n",
    "        Kms_Driven=int(request.form['Kms_Driven'])\n",
    "        Kms_Driven2=np.log(Kms_Driven)\n",
    "        Owner=int(request.form['Owner'])\n",
    "        Fuel_Type_Petrol=request.form['Fuel_Type_Petrol']\n",
    "        if(Fuel_Type_Petrol=='Petrol'):\n",
    "                Fuel_Type_Petrol=1\n",
    "                Fuel_Type_Diesel=0\n",
    "        else:\n",
    "            Fuel_Type_Petrol=0\n",
    "            Fuel_Type_Diesel=1\n",
    "        Year=2020-Year\n",
    "        Seller_Type_Individual=request.form['Seller_Type_Individual']\n",
    "        if(Seller_Type_Individual=='Individual'):\n",
    "            Seller_Type_Individual=1\n",
    "        else:\n",
    "            Seller_Type_Individual=0\t\n",
    "        Transmission_Mannual=request.form['Transmission_Mannual']\n",
    "        if(Transmission_Mannual=='Mannual'):\n",
    "            Transmission_Mannual=1\n",
    "        else:\n",
    "            Transmission_Mannual=0\n",
    "        prediction=model.predict([[Present_Price,Kms_Driven2,Owner,Year,Fuel_Type_Diesel,Fuel_Type_Petrol,Seller_Type_Individual,Transmission_Mannual]])\n",
    "        output=round(prediction[0],2)\n",
    "        if output<0:\n",
    "            return render_template('index.html',prediction_texts=\"Sorry you cannot sell this car\")\n",
    "        else:\n",
    "            return render_template('index.html',prediction_text=\"You Can Sell The Car at {}\".format(output))\n",
    "    else:\n",
    "        return render_template('index.html')\n",
    "\n",
    "if __name__==\"__main__\":\n",
    "    app.run(debug=True)"
   ]
  }
 ],
 "metadata": {
  "kernelspec": {
   "display_name": "Python 3.8.8 ('base')",
   "language": "python",
   "name": "python3"
  },
  "language_info": {
   "codemirror_mode": {
    "name": "ipython",
    "version": 3
   },
   "file_extension": ".py",
   "mimetype": "text/x-python",
   "name": "python",
   "nbconvert_exporter": "python",
   "pygments_lexer": "ipython3",
   "version": "3.8.8"
  },
  "vscode": {
   "interpreter": {
    "hash": "51ff2e06048c899726fdf58076269735b99ca5d50955928d5afc64b7e9d33ce9"
   }
  }
 },
 "nbformat": 4,
 "nbformat_minor": 5
}
